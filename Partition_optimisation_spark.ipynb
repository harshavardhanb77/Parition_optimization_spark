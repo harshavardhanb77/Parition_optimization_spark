{
  "nbformat": 4,
  "nbformat_minor": 0,
  "metadata": {
    "colab": {
      "provenance": []
    },
    "kernelspec": {
      "name": "python3",
      "display_name": "Python 3"
    },
    "language_info": {
      "name": "python"
    }
  },
  "cells": [
    {
      "cell_type": "code",
      "source": [
        "!pip install pyspark\n",
        "from pyspark.sql import SparkSession\n",
        "spark = SparkSession.builder.master(\"local[*]\").appName(\"Data Processing\").getOrCreate()\n"
      ],
      "metadata": {
        "colab": {
          "base_uri": "https://localhost:8080/"
        },
        "id": "VGwoXvABIcvV",
        "outputId": "07bb73a2-da98-4954-eb99-2af118173e4d"
      },
      "execution_count": null,
      "outputs": [
        {
          "output_type": "stream",
          "name": "stdout",
          "text": [
            "Collecting pyspark\n",
            "  Downloading pyspark-3.5.1.tar.gz (317.0 MB)\n",
            "\u001b[2K     \u001b[90m━━━━━━━━━━━━━━━━━━━━━━━━━━━━━━━━━━━━━━━━\u001b[0m \u001b[32m317.0/317.0 MB\u001b[0m \u001b[31m2.3 MB/s\u001b[0m eta \u001b[36m0:00:00\u001b[0m\n",
            "\u001b[?25h  Preparing metadata (setup.py) ... \u001b[?25l\u001b[?25hdone\n",
            "Requirement already satisfied: py4j==0.10.9.7 in /usr/local/lib/python3.10/dist-packages (from pyspark) (0.10.9.7)\n",
            "Building wheels for collected packages: pyspark\n",
            "  Building wheel for pyspark (setup.py) ... \u001b[?25l\u001b[?25hdone\n",
            "  Created wheel for pyspark: filename=pyspark-3.5.1-py2.py3-none-any.whl size=317488491 sha256=dae66c65fff92c29a4d2f33e0e424f85e32116a4bee1184a18b219989367e1c9\n",
            "  Stored in directory: /root/.cache/pip/wheels/80/1d/60/2c256ed38dddce2fdd93be545214a63e02fbd8d74fb0b7f3a6\n",
            "Successfully built pyspark\n",
            "Installing collected packages: pyspark\n",
            "Successfully installed pyspark-3.5.1\n"
          ]
        }
      ]
    },
    {
      "cell_type": "code",
      "source": [
        "df = spark.read.csv('/content/loandata.csv', header=True, inferSchema=True)"
      ],
      "metadata": {
        "id": "Oxsg3ySVI2Th"
      },
      "execution_count": null,
      "outputs": []
    },
    {
      "cell_type": "code",
      "source": [
        "# Define income ranges and corresponding folder names\n",
        "income_partitions = {\n",
        "    \"1000_9999\": (999, 10000),\n",
        "    \"10001_49999\": (10001, 49999),\n",
        "    \"50000_100000\": (50000, 100000),\n",
        "    \"above_100000\": (100000, float('inf'))\n",
        "}\n",
        "\n",
        "# Base path for saving partitioned data\n",
        "base_path = \"/content/partitioned_data/\"\n",
        "\n",
        "for key, (lower_bound, upper_bound) in income_partitions.items():\n",
        "    partition_df = df.filter((df.customer_income > lower_bound) & (df.customer_income <= upper_bound))\n",
        "    partition_path = f\"{base_path}{key}\"\n",
        "    partition_df.write.format(\"parquet\").mode(\"overwrite\").save(partition_path)\n"
      ],
      "metadata": {
        "id": "sJokMMSRJZqR"
      },
      "execution_count": null,
      "outputs": []
    },
    {
      "cell_type": "code",
      "source": [
        "import os\n",
        "import glob\n",
        "\n",
        "# Base path for partitioned data\n",
        "base_path = \"/content/partitioned_data/\"\n",
        "\n",
        "# Function to calculate the total size of files in a directory\n",
        "def get_size(start_path = '.'):\n",
        "    total_size = 0\n",
        "    for dirpath, dirnames, filenames in os.walk(start_path):\n",
        "        for f in filenames:\n",
        "            fp = os.path.join(dirpath, f)\n",
        "            if os.path.exists(fp):\n",
        "                total_size += os.path.getsize(fp)\n",
        "    return total_size\n",
        "\n",
        "# Calculate and print the size of each partition\n",
        "for partition_name in os.listdir(base_path):\n",
        "    partition_path = os.path.join(base_path, partition_name)\n",
        "    if os.path.isdir(partition_path):\n",
        "        size_in_mb = get_size(partition_path) / (1024 * 1024)  # convert bytes to megabytes\n",
        "        print(f\"Size of partition {partition_name}: {size_in_mb:.2f} MB\")\n"
      ],
      "metadata": {
        "colab": {
          "base_uri": "https://localhost:8080/"
        },
        "id": "l0-QN9vTJiCM",
        "outputId": "5a16cc42-168c-48c2-98d4-8292d12d48f6"
      },
      "execution_count": null,
      "outputs": [
        {
          "output_type": "stream",
          "name": "stdout",
          "text": [
            "Size of partition 10001_49999: 0.16 MB\n",
            "Size of partition 1000_9999: 0.01 MB\n",
            "Size of partition above_100000: 0.06 MB\n",
            "Size of partition 50000_100000: 0.17 MB\n"
          ]
        }
      ]
    },
    {
      "cell_type": "code",
      "source": [
        "import time\n",
        "import pandas as pd\n",
        "import os\n",
        "import matplotlib.pyplot as plt\n",
        "\n",
        "def read_parquet_files_with_caching(directory, use_cache=True):\n",
        "    start_time = time.time()\n",
        "    file_contents = []\n",
        "    # Read each Parquet file in the directory\n",
        "    for filename in os.listdir(directory):\n",
        "        if filename.endswith('.parquet'):\n",
        "            filepath = os.path.join(directory, filename)\n",
        "            if use_cache:\n",
        "                df = pd.read_parquet(filepath, engine='pyarrow', use_threads=True)\n",
        "            else:\n",
        "                df = pd.read_parquet(filepath, engine='pyarrow', use_threads=False)\n",
        "            file_contents.append(df)\n",
        "    end_time = time.time()\n",
        "    return end_time - start_time, len(file_contents)\n",
        "\n",
        "directory = '/content/partitioned_data'  # Directory containing your Parquet files\n",
        "\n",
        "# Measure read time without caching\n",
        "time_without_cache, _ = read_parquet_files_with_caching(directory, use_cache=False)\n",
        "print(f\"Time taken to read files without caching: {time_without_cache} seconds\")\n",
        "\n",
        "# Measure read time with caching\n",
        "time_with_cache, _ = read_parquet_files_with_caching(directory, use_cache=True)\n",
        "print(f\"Time taken to read files with caching: {time_with_cache} seconds\")\n",
        "\n",
        "# Plotting the results\n",
        "times = [time_without_cache, time_with_cache]\n",
        "labels = ['Without Cache', 'With Cache']\n",
        "\n",
        "plt.figure(figsize=(8, 5))\n",
        "plt.bar(labels, times, color=['blue', 'green'])\n",
        "plt.ylabel('Time (seconds)')\n",
        "plt.title('File Read Times: Without vs. With Cache')\n",
        "plt.show()\n"
      ],
      "metadata": {
        "colab": {
          "base_uri": "https://localhost:8080/",
          "height": 504
        },
        "id": "iy-xMs9HJ7e5",
        "outputId": "ebd962fc-c7d5-4ff6-dc9d-b5f90c35f85a"
      },
      "execution_count": null,
      "outputs": [
        {
          "output_type": "stream",
          "name": "stdout",
          "text": [
            "Time taken to read files without caching: 7.128715515136719e-05 seconds\n",
            "Time taken to read files with caching: 4.553794860839844e-05 seconds\n"
          ]
        },
        {
          "output_type": "display_data",
          "data": {
            "text/plain": [
              "<Figure size 800x500 with 1 Axes>"
            ],
            "image/png": "[encoded data removed]"
          },
          "metadata": {}
        }
      ]
    },
    {
      "cell_type": "code",
      "source": [
        "from pyspark.sql import SparkSession\n",
        "import time\n",
        "import matplotlib.pyplot as plt\n",
        "\n",
        "# Initialize a Spark session\n",
        "spark = SparkSession.builder.appName(\"Optimization Techniques\").getOrCreate()\n",
        "\n",
        "# Function to measure the execution time\n",
        "def measure_time(method, function):\n",
        "    start_time = time.time()\n",
        "    result = function()\n",
        "    end_time = time.time()\n",
        "    print(f\"{method} took {end_time - start_time:.2f} seconds\")\n",
        "    return end_time - start_time\n",
        "\n",
        "# Read Parquet files\n",
        "df = spark.read.parquet('/content/partitioned_data/10001_49999')\n",
        "\n",
        "# Method 1: Data Filtering at Read Time\n",
        "def filtering_at_read():\n",
        "    # Ensure 'loan_intent' and 'Education' match your data\n",
        "    return spark.read.parquet('/content/partitioned_data/10001_49999').filter(\"loan_intent = 'Education'\").count()\n",
        "\n",
        "# Method 2: Repartitioning Data\n",
        "def repartition_data():\n",
        "    repartitioned_df = df.repartition(10)  # Adjust the number of partitions\n",
        "    return repartitioned_df.count()\n",
        "\n",
        "# Method 3: Broadcast Variables\n",
        "def using_broadcast():\n",
        "    # This example assumes that 'Education' is a common value in 'loan_intent'\n",
        "    broadcast_var = spark.sparkContext.broadcast({'loan_intent': 'Education'})\n",
        "    small_df = spark.createDataFrame([(\"Education\",)], [\"loan_intent\"])\n",
        "    return df.join(small_df, df[\"loan_intent\"] == small_df[\"loan_intent\"]).count()\n",
        "\n",
        "# Collecting data for plotting\n",
        "times = []\n",
        "times.append(measure_time(\"Filtering at Read\", filtering_at_read))\n",
        "times.append(measure_time(\"Repartitioning Data\", repartition_data))\n",
        "times.append(measure_time(\"Using Broadcast\", using_broadcast))\n",
        "\n",
        "# Plotting the results\n",
        "methods = ['Filtering at Read', 'Repartitioning Data', 'Using Broadcast']\n",
        "plt.figure(figsize=(10, 6))\n",
        "plt.bar(methods, times, color=['blue', 'green', 'red'])\n",
        "plt.ylabel('Time (seconds)')\n",
        "plt.title('Performance Comparison of Different Optimization Techniques')\n",
        "plt.show()\n",
        "\n",
        "# Stop the Spark session\n",
        "spark.stop()\n"
      ],
      "metadata": {
        "colab": {
          "base_uri": "https://localhost:8080/",
          "height": 599
        },
        "id": "FNW7UPQUNLD7",
        "outputId": "658f6f4e-a592-4275-b4d7-3c5d314506b3"
      },
      "execution_count": null,
      "outputs": [
        {
          "output_type": "stream",
          "name": "stdout",
          "text": [
            "Filtering at Read took 0.49 seconds\n",
            "Repartitioning Data took 0.37 seconds\n",
            "Using Broadcast took 2.16 seconds\n"
          ]
        },
        {
          "output_type": "display_data",
          "data": {
            "text/plain": [
              "<Figure size 1000x600 with 1 Axes>"
            ],
            "image/png": "[encoded data removed]"
          },
          "metadata": {}
        }
      ]
    },
    {
      "cell_type": "code",
      "source": [
        "from pyspark.sql import SparkSession\n",
        "import matplotlib.pyplot as plt\n",
        "\n",
        "# Initialize Spark Session with optimized configurations\n",
        "spark = SparkSession.builder \\\n",
        "    .appName(\"Advanced Data Read Optimizations\") \\\n",
        "    .config(\"spark.executor.memory\", \"4g\") \\\n",
        "    .config(\"spark.sql.shuffle.partitions\", \"50\") \\\n",
        "    .config(\"spark.jars.packages\", \"io.delta:delta-core_2.12:1.0.0\") \\\n",
        "    .enableHiveSupport() \\\n",
        "    .getOrCreate()\n",
        "\n",
        "def read_and_process_data(file_path):\n",
        "    # Read data with Delta Lake format for optimization\n",
        "    df = spark.read.format(\"delta\").load(file_path)\n",
        "\n",
        "    # Caching the DataFrame to memory\n",
        "    df.cache()\n",
        "\n",
        "    # Execute a transformation to trigger caching\n",
        "    df.count()\n",
        "\n",
        "    return df\n",
        "\n",
        "def optimized_join(df, small_df):\n",
        "    # Broadcast join to minimize shuffle\n",
        "    from pyspark.sql.functions import broadcast\n",
        "    joined_df = df.join(broadcast(small_df), df[\"id\"] == small_df[\"id\"])\n",
        "    return joined_df.count()\n",
        "\n",
        "# Example file paths\n",
        "file_path = '/content/partitioned_data/10001_49999'\n",
        "small_file_path = '/content/partitioned_data/1000_9999'\n",
        "\n",
        "# Read and process data\n",
        "df = read_and_process_data(file_path)\n",
        "small_df = spark.read.parquet(small_file_path)\n",
        "\n",
        "# Apply an optimized join\n",
        "result_count = optimized_join(df, small_df)\n",
        "\n",
        "# Visualize the read and join performance\n",
        "times = [df._jdf.queryExecution().simpleString().timeMs(), result_count]\n",
        "methods = ['Data Read and Cache', 'Optimized Broadcast Join']\n",
        "\n",
        "plt.figure(figsize=(10, 6))\n",
        "plt.bar(methods, times, color=['blue', 'orange'])\n",
        "plt.ylabel('Time (milliseconds)')\n",
        "plt.title('Performance Comparison of Advanced Techniques')\n",
        "plt.show()\n",
        "\n",
        "# Stop the Spark session\n",
        "spark.stop()\n"
      ],
      "metadata": {
        "id": "co1mmkj_RQQG"
      },
      "execution_count": null,
      "outputs": []
    },
    {
      "cell_type": "code",
      "source": [
        "from pyspark.sql import SparkSession\n",
        "import matplotlib.pyplot as plt\n",
        "import time\n",
        "\n",
        "# Initialize Spark Session with optimized configurations\n",
        "spark = SparkSession.builder \\\n",
        "    .appName(\"Efficient Data Processing\") \\\n",
        "    .config(\"spark.executor.memory\", \"4g\") \\\n",
        "    .config(\"spark.sql.shuffle.partitions\", \"50\") \\\n",
        "    .getOrCreate()\n",
        "\n",
        "def measure_performance(operation, file_path, columns=None, filter_condition=None):\n",
        "    start_time = time.time()\n",
        "\n",
        "    # Load data with optional schema pruning\n",
        "    if columns:\n",
        "        df = spark.read.parquet(file_path).select(columns)\n",
        "    else:\n",
        "        df = spark.read.parquet(file_path)\n",
        "\n",
        "    # Apply optional filter condition with function pushdown\n",
        "    if filter_condition:\n",
        "        df = df.filter(filter_condition)\n",
        "\n",
        "    # Trigger action to measure read time\n",
        "    df.count()\n",
        "\n",
        "    end_time = time.time()\n",
        "    return end_time - start_time\n",
        "\n",
        "# Define file path and operations\n",
        "file_path = '/content/partitioned_data/10001_49999'\n",
        "\n",
        "# Performance without schema pruning or function pushdown\n",
        "time_full = measure_performance(\"Full Read\", file_path)\n",
        "\n",
        "# Performance with schema pruning\n",
        "columns = [\"customer_id\", \"loan_amnt\"]  # Corrected column names\n",
        "time_pruned = measure_performance(\"Pruned Read\", file_path, columns=columns)\n",
        "\n",
        "# Performance with function pushdown\n",
        "filter_condition = \"loan_amnt > 1000\"  # Corrected example condition\n",
        "time_pushdown = measure_performance(\"Filtered Read\", file_path, filter_condition=filter_condition)\n",
        "\n",
        "# Visualize the performance comparison\n",
        "times = [time_full, time_pruned, time_pushdown]\n",
        "methods = ['Full Read', 'Schema Pruning', 'Function Pushdown']\n",
        "\n",
        "# Change color palette here\n",
        "colors = ['cyan', 'magenta', 'orange']  # New color palette\n",
        "\n",
        "plt.figure(figsize=(10, 6))\n",
        "plt.bar(methods, times, color=colors)\n",
        "plt.ylabel('Time (seconds)')\n",
        "plt.title('Performance Comparison of Read Techniques')\n",
        "plt.show()\n",
        "\n",
        "# Stop the Spark session\n",
        "spark.stop()\n"
      ],
      "metadata": {
        "colab": {
          "base_uri": "https://localhost:8080/",
          "height": 545
        },
        "id": "UL57Hq1JSljR",
        "outputId": "d5f092d1-fc1c-486e-eb7c-01312e0d7f63"
      },
      "execution_count": null,
      "outputs": [
        {
          "output_type": "display_data",
          "data": {
            "text/plain": [
              "<Figure size 1000x600 with 1 Axes>"
            ],
            "image/png": "[encoded data removed]"
          },
          "metadata": {}
        }
      ]
    },
    {
      "cell_type": "code",
      "source": [
        "import time\n",
        "import resource\n",
        "from pyspark.sql import SparkSession\n",
        "\n",
        "def get_cpu_times():\n",
        "    usage = resource.getrusage(resource.RUSAGE_SELF)\n",
        "    return usage.ru_utime, usage.ru_stime  # User time and System time\n",
        "\n",
        "def measure_performance_with_resources(operation, file_path, columns=None, filter_condition=None):\n",
        "    start_user, start_sys = get_cpu_times()\n",
        "    start_time = time.time()\n",
        "\n",
        "    # Load data with optional schema pruning\n",
        "    df = spark.read.parquet(file_path)\n",
        "    if columns:\n",
        "        df = df.select(columns)\n",
        "    if filter_condition:\n",
        "        df = df.filter(filter_condition)\n",
        "\n",
        "    # Trigger action to measure read time\n",
        "    df.count()\n",
        "\n",
        "    end_time = time.time()\n",
        "    end_user, end_sys = get_cpu_times()\n",
        "\n",
        "    # Calculate times\n",
        "    user_time = end_user - start_user\n",
        "    sys_time = end_sys - start_sys\n",
        "    total_time = user_time + sys_time\n",
        "    wall_time = end_time - start_time\n",
        "\n",
        "    return user_time, sys_time, total_time, wall_time\n",
        "\n",
        "# Initialize Spark Session with optimized configurations\n",
        "spark = SparkSession.builder \\\n",
        "    .appName(\"Efficient Data Processing\") \\\n",
        "    .config(\"spark.executor.memory\", \"4g\") \\\n",
        "    .config(\"spark.sql.shuffle.partitions\", \"50\") \\\n",
        "    .getOrCreate()\n",
        "\n",
        "# Define file path and operations\n",
        "file_path = '/content/partitioned_data/10001_49999'\n",
        "\n",
        "# Measure performance without schema pruning or function pushdown\n",
        "print(\"\\nMeasuring Full Read:\")\n",
        "full_times = measure_performance_with_resources(\"Full Read\", file_path)\n",
        "print(f\"User CPU Time: {full_times[0]:.4f} seconds\")\n",
        "print(f\"System CPU Time: {full_times[1]:.4f} seconds\")\n",
        "print(f\"Total CPU Time: {full_times[2]:.4f} seconds\")\n",
        "print(f\"Wall Time: {full_times[3]:.4f} seconds\")\n",
        "\n",
        "# Measure performance with schema pruning\n",
        "print(\"\\nMeasuring Pruned Read:\")\n",
        "pruned_times = measure_performance_with_resources(\"Pruned Read\", file_path, columns=[\"customer_id\", \"loan_amnt\"])\n",
        "print(f\"User CPU Time: {pruned_times[0]:.4f} seconds\")\n",
        "print(f\"System CPU Time: {pruned_times[1]:.4f} seconds\")\n",
        "print(f\"Total CPU Time: {pruned_times[2]:.4f} seconds\")\n",
        "print(f\"Wall Time: {pruned_times[3]:.4f} seconds\")\n",
        "\n",
        "# Measure performance with function pushdown\n",
        "print(\"\\nMeasuring Filtered Read:\")\n",
        "filtered_times = measure_performance_with_resources(\"Filtered Read\", file_path, filter_condition=\"loan_amnt > 1000\")\n",
        "print(f\"User CPU Time: {filtered_times[0]:.4f} seconds\")\n",
        "print(f\"System CPU Time: {filtered_times[1]:.4f} seconds\")\n",
        "print(f\"Total CPU Time: {filtered_times[2]:.4f} seconds\")\n",
        "print(f\"Wall Time: {filtered_times[3]:.4f} seconds\")\n",
        "\n",
        "# Stop the Spark session\n",
        "spark.stop()\n"
      ],
      "metadata": {
        "colab": {
          "base_uri": "https://localhost:8080/"
        },
        "id": "5cBGixROTN2g",
        "outputId": "fdfb5a26-4a12-4c6d-81ac-5357296381b7"
      },
      "execution_count": null,
      "outputs": [
        {
          "output_type": "stream",
          "name": "stdout",
          "text": [
            "\n",
            "Measuring Full Read:\n",
            "User CPU Time: 0.0038 seconds\n",
            "System CPU Time: 0.0010 seconds\n",
            "Total CPU Time: 0.0048 seconds\n",
            "Wall Time: 0.2588 seconds\n",
            "\n",
            "Measuring Pruned Read:\n",
            "User CPU Time: 0.0103 seconds\n",
            "System CPU Time: 0.0022 seconds\n",
            "Total CPU Time: 0.0125 seconds\n",
            "Wall Time: 0.4520 seconds\n",
            "\n",
            "Measuring Filtered Read:\n",
            "User CPU Time: 0.0060 seconds\n",
            "System CPU Time: 0.0012 seconds\n",
            "Total CPU Time: 0.0071 seconds\n",
            "Wall Time: 0.2996 seconds\n"
          ]
        }
      ]
    },
    {
      "cell_type": "code",
      "source": [],
      "metadata": {
        "id": "MlEENoeEV35j"
      },
      "execution_count": null,
      "outputs": []
    }
  ]
}